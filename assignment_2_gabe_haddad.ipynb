{
 "cells": [
  {
   "cell_type": "markdown",
   "id": "f96bdfc7",
   "metadata": {},
   "source": [
    "# Assignment 2 | Programming Logic\n",
    "\n",
    "Reminder: in all of the assignments this semester, the answer is not the only consideration, but also how you get to it. It's OK (suggested even!) to use the internet for help. But you _should_ be able to answer all of these questions using only the programming techniques you have learned in class and from the readings.\n",
    "\n",
    "A few keys for success:\n",
    "- Avoid manual data entry\n",
    "- Emphasize logic and clarity\n",
    "- Use comments, docstrings, and descriptive variable names\n",
    "- In general, less code is better. But if more lines of code makes your program easier to read or understand what its doing, then go for it."
   ]
  },
  {
   "cell_type": "markdown",
   "id": "078a9000",
   "metadata": {},
   "source": [
    "## Problem 1 \n",
    "Write a Python program to count the number of even and odd numbers from a list of numbers. Test your code by running it on a list of integers from 1 to 9. No need to make this a function unless you want to."
   ]
  },
  {
   "cell_type": "code",
   "execution_count": 29,
   "id": "8eb937c5",
   "metadata": {},
   "outputs": [],
   "source": [
    "def count_evens_odds(list):\n",
    "#counts the number of even and odd numbers in a list\n",
    "\n",
    "    evens = 0\n",
    "    odds = 0\n",
    "#sets the initial count of evens and odds to 0\n",
    "\n",
    "    for num in list:\n",
    "        if num % 2 == 0:\n",
    "            evens += 1\n",
    "        else:\n",
    "            odds += 1\n",
    "#for each number in the list, if the number is divisible by 2, add 1 to evens, else add 1 to odds\n",
    "\n",
    "    return evens, odds        \n",
    "        \n"
   ]
  },
  {
   "cell_type": "code",
   "execution_count": 30,
   "id": "15a4c07c",
   "metadata": {},
   "outputs": [
    {
     "name": "stdout",
     "output_type": "stream",
     "text": [
      "4 5\n"
     ]
    }
   ],
   "source": [
    "test_list = [1, 2, 3, 4, 5, 6, 7, 8, 9]\n",
    "evens, odds = count_evens_odds(test_list)\n",
    "print(evens, odds)"
   ]
  },
  {
   "cell_type": "markdown",
   "id": "db9df1a9",
   "metadata": {
    "collapsed": true
   },
   "source": [
    "## Problem 2\n",
    "Write a Python function that takes a list of numbers and returns a list containing only the even numbers from the original list. Test your function by running it on a list of integers from 1 to 9."
   ]
  },
  {
   "cell_type": "code",
   "execution_count": 31,
   "id": "45fcfd00",
   "metadata": {},
   "outputs": [],
   "source": [
    "def only_evens(list):\n",
    "# return only the even numbers from a list\n",
    "\n",
    "    evens = [num for num in list if num % 2 == 0]\n",
    "# new list called \"evens\" that checks if each num in the list is divisible by 2\n",
    "    \n",
    "    return(evens)\n",
    "    \n",
    "# returns evens list\n"
   ]
  },
  {
   "cell_type": "code",
   "execution_count": 32,
   "id": "53c725b6",
   "metadata": {},
   "outputs": [
    {
     "name": "stdout",
     "output_type": "stream",
     "text": [
      "[2, 4, 6, 8]\n"
     ]
    }
   ],
   "source": [
    "evens = only_evens(test_list)\n",
    "#runs the only_evens function using the test list defined in the previous question\n",
    "\n",
    "print(evens)"
   ]
  },
  {
   "cell_type": "markdown",
   "id": "6a6f4ef0",
   "metadata": {},
   "source": [
    "## Problem 3\n",
    "\n",
    "1. Create a function that accepts a list of integers as an argument and returns a list of floats which equals each number as a fraction of the sum of all the items in the original list.\n",
    "\n",
    "2. Next, create a second function which is the same as the first, but limit each number in the output list to two decimals.\n",
    "\n",
    "3. Create another function which builds on the previous one by allowing a \"user\" pass in an argument that defines the number of decimal places to use in the output list.\n",
    "\n",
    "4. Test each of these functions with a list of integers"
   ]
  },
  {
   "cell_type": "code",
   "execution_count": 49,
   "id": "6856ee58",
   "metadata": {},
   "outputs": [
    {
     "name": "stdout",
     "output_type": "stream",
     "text": [
      "[0.022222222222222223, 0.044444444444444446, 0.06666666666666667, 0.08888888888888889, 0.1111111111111111, 0.13333333333333333, 0.15555555555555556, 0.17777777777777778, 0.2]\n"
     ]
    }
   ],
   "source": [
    "def divide_by_sum(list):\n",
    "\n",
    "    list_sum = sum(list)\n",
    "#defines list_sum as sum of numbers in the input list\n",
    "    \n",
    "    fraction_of_sum = [float(num) / list_sum for num in list]\n",
    "#defines fraction_of_sum as a float divided by list_sum for each number in the list\n",
    "    \n",
    "    return(fraction_of_sum)\n",
    "    \n",
    "test_list = [1, 2, 3, 4, 5, 6, 7, 8, 9]\n",
    "fractions = divide_by_sum(test_list)\n",
    "print(fractions)\n",
    "        \n",
    "    "
   ]
  },
  {
   "cell_type": "code",
   "execution_count": 57,
   "id": "363a8ba5",
   "metadata": {},
   "outputs": [
    {
     "name": "stdout",
     "output_type": "stream",
     "text": [
      "[0.02, 0.04, 0.07, 0.09, 0.11, 0.13, 0.16, 0.18, 0.2]\n"
     ]
    }
   ],
   "source": [
    "def divide_by_sum_2_decimals(list):\n",
    "    \n",
    "    list_sum = sum(list)\n",
    "    \n",
    "    fraction_of_sum = [round(float(num) / list_sum, 2) for num in list]\n",
    "#same as before but we round the fraction to 2 decimal places  \n",
    "\n",
    "    return(fraction_of_sum)\n",
    "    \n",
    "test_list = [1, 2, 3, 4, 5, 6, 7, 8, 9]\n",
    "fractions = divide_by_sum_2_decimals(test_list)\n",
    "print(fractions)"
   ]
  },
  {
   "cell_type": "code",
   "execution_count": 98,
   "id": "1bb87d45",
   "metadata": {},
   "outputs": [
    {
     "name": "stdout",
     "output_type": "stream",
     "text": [
      "[0.0222, 0.0444, 0.0667, 0.0889, 0.1111, 0.1333, 0.1556, 0.1778, 0.2]\n"
     ]
    }
   ],
   "source": [
    "def divide_by_sum_custom_decimals(list):\n",
    "    \n",
    "    list_sum = sum(list)\n",
    "    \n",
    "    fraction_of_sum = [round(float(num) / list_sum, decimals) for num in list]\n",
    "#same as before but decimal places has been replaced with a new variable which gets input by the user before running the function  \n",
    "\n",
    "    return(fraction_of_sum)\n",
    "    \n",
    "test_list = [1, 2, 3, 4, 5, 6, 7, 8, 9]\n",
    "decimals = 4\n",
    "# user enters desired decimal places here\n",
    "\n",
    "fractions = divide_by_sum_custom_decimals(test_list)\n",
    "print(fractions)"
   ]
  },
  {
   "cell_type": "markdown",
   "id": "17e43098",
   "metadata": {},
   "source": [
    "## Problem 4\n",
    "A prime number is any whole number greater than 1 that has no positive divisors besides 1 and itself. In other words, a prime number must be:\n",
    "1. an integer\n",
    "2. greater than 1\n",
    "3. divisible only by 1 and itself.\n",
    "\n",
    "Write a function is_prime(n) that accepts an argument `n` and returns `True` (boolean) if `n` is a prime number and `False` if n is not prime. For example, `is_prime(11)` should return `True` and `is_prime(12)` should return `False`.\n"
   ]
  },
  {
   "cell_type": "code",
   "execution_count": 123,
   "id": "7b43bc6c",
   "metadata": {},
   "outputs": [
    {
     "name": "stdout",
     "output_type": "stream",
     "text": [
      "True\n"
     ]
    }
   ],
   "source": [
    "def is_prime(n):\n",
    "    if n == 1 or n == 2:\n",
    "        print(\"False\")       \n",
    "# 1 and 2 are prime numbers but will not work with the logic that follows, so we need to build in a condition for if n = 1 or 2\n",
    " \n",
    "    elif n > 2:        \n",
    "        for i in range(2, n):\n",
    "            if (n % i) == 0:\n",
    "# This part says that for all numbers between 2 and the input, if the remainder of dividing the input (n) by any number in the range is 0, it is not prime.\n",
    "                print(\"False\")\n",
    "                break\n",
    "            else:\n",
    "                print(\"True\")\n",
    "                break\n",
    "# If the remainder is not 0, this means that the input is not divisible by anything, making it prime                \n",
    "    else:\n",
    "        print(\"False\")\n",
    "        \n",
    "is_prime(11)"
   ]
  },
  {
   "cell_type": "markdown",
   "id": "e556b42f",
   "metadata": {},
   "source": [
    "## Problem 5"
   ]
  },
  {
   "cell_type": "markdown",
   "id": "fd5f4463",
   "metadata": {},
   "source": [
    "1. Create a class called `Housing`, and add the following attributes to it:\n",
    "  - type\n",
    "  - area\n",
    "  - number of bedrooms\n",
    "  - value (price)\n",
    "  - year built.\n",
    "2. Create two instances of your class and populate their attributes (make 'em up)\n",
    "3. Create a method called `rent()` that calculates the estimated monthly rent for each house (assume that monthly rent is 0.4% of the value of the house)\n",
    "4. Print the rent for both instances."
   ]
  },
  {
   "cell_type": "code",
   "execution_count": 159,
   "id": "efa713df",
   "metadata": {},
   "outputs": [],
   "source": [
    "class Housing:\n",
    "    pass    "
   ]
  },
  {
   "cell_type": "code",
   "execution_count": 160,
   "id": "7b2fa3cc",
   "metadata": {},
   "outputs": [],
   "source": [
    "    house_1 = Housing()\n",
    "    house_2 = Housing()"
   ]
  },
  {
   "cell_type": "code",
   "execution_count": 161,
   "id": "7a808730",
   "metadata": {},
   "outputs": [],
   "source": [
    "class Housing:\n",
    "    def __init__(house, type, area, bedrooms, value, year):\n",
    "        house.type = type\n",
    "        house.area = area\n",
    "        house.bedrooms = bedrooms\n",
    "        house.value = value\n",
    "        house.year = year\n",
    "        \n",
    "    def rent(house):\n",
    "        monthly_rent = 0.004 * house.value\n",
    "        print(monthly_rent)"
   ]
  },
  {
   "cell_type": "code",
   "execution_count": 162,
   "id": "c1b4b26d",
   "metadata": {
    "scrolled": true
   },
   "outputs": [],
   "source": [
    "house_1 = Housing('Single Family', '1000 SqFt', 3, 500000, 2010)\n",
    "house_2 = Housing('Condo', '700 SqFt', 2, 350000, 2013)"
   ]
  },
  {
   "cell_type": "code",
   "execution_count": 165,
   "id": "b002710c",
   "metadata": {},
   "outputs": [
    {
     "name": "stdout",
     "output_type": "stream",
     "text": [
      "2000.0\n"
     ]
    }
   ],
   "source": [
    "house_1.rent()"
   ]
  },
  {
   "cell_type": "code",
   "execution_count": 166,
   "id": "ea2c6f25",
   "metadata": {},
   "outputs": [
    {
     "name": "stdout",
     "output_type": "stream",
     "text": [
      "1400.0\n"
     ]
    }
   ],
   "source": [
    "house_2.rent()"
   ]
  },
  {
   "cell_type": "code",
   "execution_count": null,
   "id": "4538b6a1",
   "metadata": {},
   "outputs": [],
   "source": []
  }
 ],
 "metadata": {
  "kernelspec": {
   "display_name": "Python 3 (ipykernel)",
   "language": "python",
   "name": "python3"
  },
  "language_info": {
   "codemirror_mode": {
    "name": "ipython",
    "version": 3
   },
   "file_extension": ".py",
   "mimetype": "text/x-python",
   "name": "python",
   "nbconvert_exporter": "python",
   "pygments_lexer": "ipython3",
   "version": "3.11.5"
  },
  "toc": {
   "base_numbering": 1,
   "nav_menu": {},
   "number_sections": false,
   "sideBar": false,
   "skip_h1_title": true,
   "title_cell": "Table of Contents",
   "title_sidebar": "Contents",
   "toc_cell": false,
   "toc_position": {},
   "toc_section_display": true,
   "toc_window_display": false
  }
 },
 "nbformat": 4,
 "nbformat_minor": 5
}
